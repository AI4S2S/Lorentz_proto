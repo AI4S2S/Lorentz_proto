{
 "cells": [
  {
   "cell_type": "code",
   "execution_count": 45,
   "id": "a626f1c8-40e2-44dc-b7ff-5beab9ab29f0",
   "metadata": {},
   "outputs": [
    {
     "name": "stderr",
     "output_type": "stream",
     "text": [
      "2022-09-08 16:25:07.204453: I tensorflow/core/platform/cpu_feature_guard.cc:193] This TensorFlow binary is optimized with oneAPI Deep Neural Network Library (oneDNN) to use the following CPU instructions in performance-critical operations:  AVX2 FMA\n",
      "To enable them in other operations, rebuild TensorFlow with the appropriate compiler flags.\n",
      "2022-09-08 16:25:07.588065: W tensorflow/stream_executor/platform/default/dso_loader.cc:64] Could not load dynamic library 'libcudart.so.11.0'; dlerror: libcudart.so.11.0: cannot open shared object file: No such file or directory\n",
      "2022-09-08 16:25:07.588139: I tensorflow/stream_executor/cuda/cudart_stub.cc:29] Ignore above cudart dlerror if you do not have a GPU set up on your machine.\n",
      "2022-09-08 16:25:07.657559: E tensorflow/stream_executor/cuda/cuda_blas.cc:2981] Unable to register cuBLAS factory: Attempting to register factory for plugin cuBLAS when one has already been registered\n",
      "2022-09-08 16:25:08.586768: W tensorflow/stream_executor/platform/default/dso_loader.cc:64] Could not load dynamic library 'libnvinfer.so.7'; dlerror: libnvinfer.so.7: cannot open shared object file: No such file or directory\n",
      "2022-09-08 16:25:08.586843: W tensorflow/stream_executor/platform/default/dso_loader.cc:64] Could not load dynamic library 'libnvinfer_plugin.so.7'; dlerror: libnvinfer_plugin.so.7: cannot open shared object file: No such file or directory\n",
      "2022-09-08 16:25:08.586850: W tensorflow/compiler/tf2tensorrt/utils/py_utils.cc:38] TF-TRT Warning: Cannot dlopen some TensorRT libraries. If you would like to use Nvidia GPU with TensorRT, please make sure the missing libraries mentioned above are installed properly.\n"
     ]
    }
   ],
   "source": [
    "import warnings\n",
    "warnings.filterwarnings('ignore') # disable warnings relateds to versions of tf\n",
    "import numpy as np\n",
    "# keras model and preprocessing tools\n",
    "from tensorflow.keras.applications.resnet50 import ResNet50, preprocess_input, decode_predictions\n",
    "from keras import backend as K\n",
    "from keras import utils\n",
    "# dianna library for explanation\n",
    "import dianna\n",
    "from dianna import visualization\n",
    "# for plotting\n",
    "%matplotlib inline\n",
    "from matplotlib import pyplot as plt"
   ]
  },
  {
   "cell_type": "markdown",
   "id": "1e3de949",
   "metadata": {},
   "source": [
    "#### 1 - Loading the model and the dataset\n",
    "Loads pretrained ImageNet model and the image to be explained."
   ]
  },
  {
   "cell_type": "markdown",
   "id": "569e08e4",
   "metadata": {},
   "source": [
    "Initialize the pretrained model."
   ]
  },
  {
   "cell_type": "code",
   "execution_count": 36,
   "id": "cb9babf5-c2f8-41e5-8f79-7f7240033703",
   "metadata": {},
   "outputs": [],
   "source": [
    "# load the model\n",
    "import pickle\n",
    "from pathlib import Path\n",
    "\n",
    "output_folder = Path('/your_path_to/observational/output')\n",
    "pkl_model_file_name = str(output_folder / 'LogisticRegressionCV_lag_1_split_0.sav')\n",
    "loaded_model = pickle.load(open(pkl_model_file_name, 'rb'))                 "
   ]
  },
  {
   "cell_type": "code",
   "execution_count": 39,
   "id": "ade3efa0-290f-485f-84ae-ae50c35a1bc3",
   "metadata": {},
   "outputs": [
    {
     "data": {
      "text/html": [
       "<div>\n",
       "<style scoped>\n",
       "    .dataframe tbody tr th:only-of-type {\n",
       "        vertical-align: middle;\n",
       "    }\n",
       "\n",
       "    .dataframe tbody tr th {\n",
       "        vertical-align: top;\n",
       "    }\n",
       "\n",
       "    .dataframe thead th {\n",
       "        text-align: right;\n",
       "    }\n",
       "</style>\n",
       "<table border=\"1\" class=\"dataframe\">\n",
       "  <thead>\n",
       "    <tr style=\"text-align: right;\">\n",
       "      <th></th>\n",
       "      <th>1..1..sst</th>\n",
       "      <th>1..2..sst</th>\n",
       "      <th>1..3..sst</th>\n",
       "      <th>1..4..sst</th>\n",
       "      <th>1..5..sst</th>\n",
       "      <th>1..6..sst</th>\n",
       "      <th>1..7..sst</th>\n",
       "      <th>1..8..sst</th>\n",
       "      <th>1..9..sst</th>\n",
       "      <th>1..11..sst</th>\n",
       "      <th>1..12..sst</th>\n",
       "    </tr>\n",
       "  </thead>\n",
       "  <tbody>\n",
       "    <tr>\n",
       "      <th>1981-01-16</th>\n",
       "      <td>-0.781289</td>\n",
       "      <td>0.026348</td>\n",
       "      <td>-0.154820</td>\n",
       "      <td>0.398731</td>\n",
       "      <td>0.217529</td>\n",
       "      <td>-0.324348</td>\n",
       "      <td>-0.197452</td>\n",
       "      <td>0.262071</td>\n",
       "      <td>0.140344</td>\n",
       "      <td>0.012956</td>\n",
       "      <td>0.006317</td>\n",
       "    </tr>\n",
       "    <tr>\n",
       "      <th>1981-02-13</th>\n",
       "      <td>-0.805915</td>\n",
       "      <td>-0.042760</td>\n",
       "      <td>-0.138640</td>\n",
       "      <td>0.388029</td>\n",
       "      <td>0.218031</td>\n",
       "      <td>-0.454347</td>\n",
       "      <td>-0.198092</td>\n",
       "      <td>0.469227</td>\n",
       "      <td>0.005216</td>\n",
       "      <td>-0.014150</td>\n",
       "      <td>-0.022728</td>\n",
       "    </tr>\n",
       "    <tr>\n",
       "      <th>1981-03-13</th>\n",
       "      <td>-0.455521</td>\n",
       "      <td>0.062720</td>\n",
       "      <td>-0.190565</td>\n",
       "      <td>0.256821</td>\n",
       "      <td>0.282002</td>\n",
       "      <td>-0.301338</td>\n",
       "      <td>0.080340</td>\n",
       "      <td>0.973964</td>\n",
       "      <td>0.072171</td>\n",
       "      <td>0.055092</td>\n",
       "      <td>0.047149</td>\n",
       "    </tr>\n",
       "    <tr>\n",
       "      <th>1981-04-10</th>\n",
       "      <td>-0.359189</td>\n",
       "      <td>-0.090819</td>\n",
       "      <td>-0.097247</td>\n",
       "      <td>-0.001068</td>\n",
       "      <td>0.264594</td>\n",
       "      <td>0.154570</td>\n",
       "      <td>-0.291145</td>\n",
       "      <td>0.091206</td>\n",
       "      <td>0.165278</td>\n",
       "      <td>0.014397</td>\n",
       "      <td>0.045278</td>\n",
       "    </tr>\n",
       "    <tr>\n",
       "      <th>1981-05-08</th>\n",
       "      <td>-0.184985</td>\n",
       "      <td>0.086693</td>\n",
       "      <td>0.043705</td>\n",
       "      <td>0.020359</td>\n",
       "      <td>0.546930</td>\n",
       "      <td>-0.133687</td>\n",
       "      <td>0.027764</td>\n",
       "      <td>0.213893</td>\n",
       "      <td>0.207878</td>\n",
       "      <td>0.106212</td>\n",
       "      <td>0.058237</td>\n",
       "    </tr>\n",
       "    <tr>\n",
       "      <th>...</th>\n",
       "      <td>...</td>\n",
       "      <td>...</td>\n",
       "      <td>...</td>\n",
       "      <td>...</td>\n",
       "      <td>...</td>\n",
       "      <td>...</td>\n",
       "      <td>...</td>\n",
       "      <td>...</td>\n",
       "      <td>...</td>\n",
       "      <td>...</td>\n",
       "      <td>...</td>\n",
       "    </tr>\n",
       "    <tr>\n",
       "      <th>1991-08-28</th>\n",
       "      <td>0.225965</td>\n",
       "      <td>-0.105548</td>\n",
       "      <td>-0.328257</td>\n",
       "      <td>-0.479323</td>\n",
       "      <td>0.279319</td>\n",
       "      <td>-0.469070</td>\n",
       "      <td>0.025348</td>\n",
       "      <td>-0.035842</td>\n",
       "      <td>-0.076151</td>\n",
       "      <td>-0.115672</td>\n",
       "      <td>-0.249279</td>\n",
       "    </tr>\n",
       "    <tr>\n",
       "      <th>1991-09-25</th>\n",
       "      <td>0.427475</td>\n",
       "      <td>-0.150174</td>\n",
       "      <td>-0.471862</td>\n",
       "      <td>-0.287656</td>\n",
       "      <td>0.189109</td>\n",
       "      <td>-0.311486</td>\n",
       "      <td>0.113529</td>\n",
       "      <td>-0.202739</td>\n",
       "      <td>-0.044259</td>\n",
       "      <td>-0.153844</td>\n",
       "      <td>-0.170419</td>\n",
       "    </tr>\n",
       "    <tr>\n",
       "      <th>1991-10-23</th>\n",
       "      <td>0.659344</td>\n",
       "      <td>-0.115526</td>\n",
       "      <td>-0.624655</td>\n",
       "      <td>0.002071</td>\n",
       "      <td>0.328530</td>\n",
       "      <td>-0.227904</td>\n",
       "      <td>-0.099115</td>\n",
       "      <td>-0.333195</td>\n",
       "      <td>-0.142204</td>\n",
       "      <td>-0.365160</td>\n",
       "      <td>-0.225685</td>\n",
       "    </tr>\n",
       "    <tr>\n",
       "      <th>1991-11-20</th>\n",
       "      <td>0.797536</td>\n",
       "      <td>-0.024138</td>\n",
       "      <td>-0.501468</td>\n",
       "      <td>-0.142064</td>\n",
       "      <td>0.275873</td>\n",
       "      <td>-0.071305</td>\n",
       "      <td>-0.059220</td>\n",
       "      <td>-0.164603</td>\n",
       "      <td>-0.110576</td>\n",
       "      <td>-0.410891</td>\n",
       "      <td>-0.550052</td>\n",
       "    </tr>\n",
       "    <tr>\n",
       "      <th>1991-12-18</th>\n",
       "      <td>0.961009</td>\n",
       "      <td>-0.308195</td>\n",
       "      <td>-0.403961</td>\n",
       "      <td>-0.124684</td>\n",
       "      <td>0.475353</td>\n",
       "      <td>0.035810</td>\n",
       "      <td>-0.368212</td>\n",
       "      <td>0.315196</td>\n",
       "      <td>-0.230526</td>\n",
       "      <td>-0.136406</td>\n",
       "      <td>-0.121740</td>\n",
       "    </tr>\n",
       "  </tbody>\n",
       "</table>\n",
       "<p>143 rows × 11 columns</p>\n",
       "</div>"
      ],
      "text/plain": [
       "            1..1..sst  1..2..sst  1..3..sst  1..4..sst  1..5..sst  1..6..sst  \\\n",
       "1981-01-16  -0.781289   0.026348  -0.154820   0.398731   0.217529  -0.324348   \n",
       "1981-02-13  -0.805915  -0.042760  -0.138640   0.388029   0.218031  -0.454347   \n",
       "1981-03-13  -0.455521   0.062720  -0.190565   0.256821   0.282002  -0.301338   \n",
       "1981-04-10  -0.359189  -0.090819  -0.097247  -0.001068   0.264594   0.154570   \n",
       "1981-05-08  -0.184985   0.086693   0.043705   0.020359   0.546930  -0.133687   \n",
       "...               ...        ...        ...        ...        ...        ...   \n",
       "1991-08-28   0.225965  -0.105548  -0.328257  -0.479323   0.279319  -0.469070   \n",
       "1991-09-25   0.427475  -0.150174  -0.471862  -0.287656   0.189109  -0.311486   \n",
       "1991-10-23   0.659344  -0.115526  -0.624655   0.002071   0.328530  -0.227904   \n",
       "1991-11-20   0.797536  -0.024138  -0.501468  -0.142064   0.275873  -0.071305   \n",
       "1991-12-18   0.961009  -0.308195  -0.403961  -0.124684   0.475353   0.035810   \n",
       "\n",
       "            1..7..sst  1..8..sst  1..9..sst  1..11..sst  1..12..sst  \n",
       "1981-01-16  -0.197452   0.262071   0.140344    0.012956    0.006317  \n",
       "1981-02-13  -0.198092   0.469227   0.005216   -0.014150   -0.022728  \n",
       "1981-03-13   0.080340   0.973964   0.072171    0.055092    0.047149  \n",
       "1981-04-10  -0.291145   0.091206   0.165278    0.014397    0.045278  \n",
       "1981-05-08   0.027764   0.213893   0.207878    0.106212    0.058237  \n",
       "...               ...        ...        ...         ...         ...  \n",
       "1991-08-28   0.025348  -0.035842  -0.076151   -0.115672   -0.249279  \n",
       "1991-09-25   0.113529  -0.202739  -0.044259   -0.153844   -0.170419  \n",
       "1991-10-23  -0.099115  -0.333195  -0.142204   -0.365160   -0.225685  \n",
       "1991-11-20  -0.059220  -0.164603  -0.110576   -0.410891   -0.550052  \n",
       "1991-12-18  -0.368212   0.315196  -0.230526   -0.136406   -0.121740  \n",
       "\n",
       "[143 rows x 11 columns]"
      ]
     },
     "execution_count": 39,
     "metadata": {},
     "output_type": "execute_result"
    }
   ],
   "source": [
    "# load test data\n",
    "import pandas as pd\n",
    "X_test_file_name = output_folder / 'LogisticRegressionCV_X_test_lag_1_split_0.csv'\n",
    "X_test = pd.read_csv(X_test_file_name, index_col=0)\n",
    "X_test"
   ]
  },
  {
   "cell_type": "code",
   "execution_count": 48,
   "id": "4e37a199-3f6b-4edd-a623-566f86006b76",
   "metadata": {},
   "outputs": [],
   "source": [
    "class Model():\n",
    "    def __init__(self, input_size):\n",
    "        K.set_learning_phase(0)\n",
    "        self.model = loaded_model\n",
    "        self.input_size = input_size\n",
    "        \n",
    "    def run_on_batch(self, x):\n",
    "        return self.model.predict_proba(x)"
   ]
  },
  {
   "cell_type": "code",
   "execution_count": 49,
   "id": "2fefe8b2",
   "metadata": {},
   "outputs": [],
   "source": [
    "model = Model(X_test.shape)"
   ]
  },
  {
   "cell_type": "markdown",
   "id": "e9af3ea4",
   "metadata": {},
   "source": [
    "Load and preprocess image."
   ]
  },
  {
   "cell_type": "markdown",
   "id": "worst-gregory",
   "metadata": {},
   "source": [
    "#### 2 - Compute and visualize the relevance scores\n",
    "Compute the pixel relevance scores using RISE and visualize them on the input image. "
   ]
  },
  {
   "cell_type": "markdown",
   "id": "renewable-twelve",
   "metadata": {},
   "source": [
    "RISE masks random portions of the input image and passes the masked image through the model — the masked portion that decreases accuracy the most is the most “important” portion.<br>\n",
    "To call the explainer and generate relevance scores map, the user need to specifiy the number of masks being randomly generated (`n_masks`), the resolution of features in masks (`feature_res`) and for each mask and each feature in the image, the probability of being kept unmasked (`p_keep`)."
   ]
  },
  {
   "cell_type": "code",
   "execution_count": null,
   "id": "bacterial-shakespeare",
   "metadata": {},
   "outputs": [],
   "source": [
    "# TODO the shape of X_test should be changed from (143, 11) to (1, 143, 11)\n",
    "relevances = dianna.explain_image(model.run_on_batch, X_test, method=\"RISE\",\n",
    "                                labels=[i for i in range(1)],\n",
    "                                n_masks=1000, feature_res=6, p_keep=.1,\n",
    "                                axis_labels={0: 'channels'})"
   ]
  },
  {
   "cell_type": "markdown",
   "id": "bcd41a4c",
   "metadata": {},
   "source": [
    "Make predictions and select the top prediction.\n"
   ]
  },
  {
   "cell_type": "code",
   "execution_count": null,
   "id": "b2209c46",
   "metadata": {},
   "outputs": [],
   "source": [
    "def class_name(idx):\n",
    "    return decode_predictions(np.eye(1, 1000, idx))[0][0][1]\n",
    "\n",
    "# print the name of predicted class, taking care of adding a batch axis to the model input\n",
    "class_name(np.argmax(model.model.predict(x[None, ...])))"
   ]
  },
  {
   "cell_type": "markdown",
   "id": "799e030e",
   "metadata": {},
   "source": [
    "Visualize the relevance scores for the predicted class on top of the input image."
   ]
  },
  {
   "cell_type": "code",
   "execution_count": null,
   "id": "intimate-operations",
   "metadata": {
    "tags": []
   },
   "outputs": [],
   "source": [
    "class_idx = np.argmax(model.model.predict(x[None, ...]))\n",
    "print(f'Explanation for `{class_name(class_idx)}`')\n",
    "visualization.plot_image(relevances[class_idx], utils.img_to_array(img)/255., heatmap_cmap='jet')"
   ]
  },
  {
   "cell_type": "markdown",
   "id": "b8112c8c",
   "metadata": {},
   "source": [
    "#### 3 - Conclusions\n",
    "The relevance scores are generated by passing multiple randomly masked inputs to the black-box model and averaging their scores. The idea behind this is that whenever a mask preserves important parts of the image it gets higher score. <br>\n",
    "\n",
    "The example here shows that the RISE method evaluates the relevance of each pixel/super pixel to the classification. Pixels characterizing the bee are highlighted by the XAI approach, which gives an intuition on how the model classifies the image. The results are reasonable, based on the human visual preception of the image."
   ]
  }
 ],
 "metadata": {
  "kernelspec": {
   "display_name": "Python 3 (ipykernel)",
   "language": "python",
   "name": "python3"
  },
  "language_info": {
   "codemirror_mode": {
    "name": "ipython",
    "version": 3
   },
   "file_extension": ".py",
   "mimetype": "text/x-python",
   "name": "python",
   "nbconvert_exporter": "python",
   "pygments_lexer": "ipython3",
   "version": "3.8.0"
  }
 },
 "nbformat": 4,
 "nbformat_minor": 5
}
